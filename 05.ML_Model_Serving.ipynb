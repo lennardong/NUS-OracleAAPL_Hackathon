{
 "cells": [
  {
   "cell_type": "markdown",
   "metadata": {},
   "source": [
    "# Machine Learning Model Serving"
   ]
  },
  {
   "cell_type": "code",
   "execution_count": 1,
   "metadata": {},
   "outputs": [],
   "source": [
    "import warnings\n",
    "warnings.filterwarnings(\"ignore\")"
   ]
  },
  {
   "cell_type": "code",
   "execution_count": 2,
   "metadata": {},
   "outputs": [],
   "source": [
    "import time\n",
    "start = time.time()"
   ]
  },
  {
   "cell_type": "code",
   "execution_count": 3,
   "metadata": {},
   "outputs": [],
   "source": [
    "import pandas as pd\n",
    "import numpy as np\n",
    "import matplotlib.pyplot as plt\n",
    "import seaborn as sns\n",
    "import pickle"
   ]
  },
  {
   "cell_type": "code",
   "execution_count": 4,
   "metadata": {},
   "outputs": [],
   "source": [
    "def save_obj(obj, name ):\n",
    "    with open('web/'+ name, 'wb') as f:\n",
    "        pickle.dump(obj, f, pickle.HIGHEST_PROTOCOL)"
   ]
  },
  {
   "cell_type": "code",
   "execution_count": 5,
   "metadata": {},
   "outputs": [],
   "source": [
    "data = pd.read_csv('./data_f1/data_filtered.csv')"
   ]
  },
  {
   "cell_type": "code",
   "execution_count": 6,
   "metadata": {},
   "outputs": [
    {
     "data": {
      "text/html": [
       "<div>\n",
       "<style scoped>\n",
       "    .dataframe tbody tr th:only-of-type {\n",
       "        vertical-align: middle;\n",
       "    }\n",
       "\n",
       "    .dataframe tbody tr th {\n",
       "        vertical-align: top;\n",
       "    }\n",
       "\n",
       "    .dataframe thead th {\n",
       "        text-align: right;\n",
       "    }\n",
       "</style>\n",
       "<table border=\"1\" class=\"dataframe\">\n",
       "  <thead>\n",
       "    <tr style=\"text-align: right;\">\n",
       "      <th></th>\n",
       "      <th>year</th>\n",
       "      <th>date</th>\n",
       "      <th>fp1_date</th>\n",
       "      <th>fp1_time</th>\n",
       "      <th>fp2_date</th>\n",
       "      <th>fp2_time</th>\n",
       "      <th>fp3_date</th>\n",
       "      <th>fp3_time</th>\n",
       "      <th>quali_date</th>\n",
       "      <th>quali_time</th>\n",
       "      <th>...</th>\n",
       "      <th>constructor</th>\n",
       "      <th>constructor_nationality</th>\n",
       "      <th>GP_name</th>\n",
       "      <th>country</th>\n",
       "      <th>driver</th>\n",
       "      <th>age_at_gp_in_days</th>\n",
       "      <th>driver_home</th>\n",
       "      <th>constructor_home</th>\n",
       "      <th>driver_dnf</th>\n",
       "      <th>constructor_dnf</th>\n",
       "    </tr>\n",
       "  </thead>\n",
       "  <tbody>\n",
       "    <tr>\n",
       "      <th>0</th>\n",
       "      <td>2011</td>\n",
       "      <td>2011-03-27</td>\n",
       "      <td>\\N</td>\n",
       "      <td>\\N</td>\n",
       "      <td>\\N</td>\n",
       "      <td>\\N</td>\n",
       "      <td>\\N</td>\n",
       "      <td>\\N</td>\n",
       "      <td>\\N</td>\n",
       "      <td>\\N</td>\n",
       "      <td>...</td>\n",
       "      <td>Alpine F1</td>\n",
       "      <td>Fre</td>\n",
       "      <td>Albert Park Grand Prix Circuit</td>\n",
       "      <td>Aus</td>\n",
       "      <td>Nick Heidfeld</td>\n",
       "      <td>12374</td>\n",
       "      <td>0</td>\n",
       "      <td>0</td>\n",
       "      <td>0</td>\n",
       "      <td>1</td>\n",
       "    </tr>\n",
       "    <tr>\n",
       "      <th>1</th>\n",
       "      <td>2010</td>\n",
       "      <td>2010-03-28</td>\n",
       "      <td>\\N</td>\n",
       "      <td>\\N</td>\n",
       "      <td>\\N</td>\n",
       "      <td>\\N</td>\n",
       "      <td>\\N</td>\n",
       "      <td>\\N</td>\n",
       "      <td>\\N</td>\n",
       "      <td>\\N</td>\n",
       "      <td>...</td>\n",
       "      <td>Alpine F1</td>\n",
       "      <td>Fre</td>\n",
       "      <td>Albert Park Grand Prix Circuit</td>\n",
       "      <td>Aus</td>\n",
       "      <td>Robert Kubica</td>\n",
       "      <td>9242</td>\n",
       "      <td>0</td>\n",
       "      <td>0</td>\n",
       "      <td>0</td>\n",
       "      <td>0</td>\n",
       "    </tr>\n",
       "    <tr>\n",
       "      <th>2</th>\n",
       "      <td>2017</td>\n",
       "      <td>2017-03-26</td>\n",
       "      <td>\\N</td>\n",
       "      <td>\\N</td>\n",
       "      <td>\\N</td>\n",
       "      <td>\\N</td>\n",
       "      <td>\\N</td>\n",
       "      <td>\\N</td>\n",
       "      <td>\\N</td>\n",
       "      <td>\\N</td>\n",
       "      <td>...</td>\n",
       "      <td>Alpine F1</td>\n",
       "      <td>Fre</td>\n",
       "      <td>Albert Park Grand Prix Circuit</td>\n",
       "      <td>Aus</td>\n",
       "      <td>Nico Hülkenberg</td>\n",
       "      <td>10812</td>\n",
       "      <td>0</td>\n",
       "      <td>0</td>\n",
       "      <td>0</td>\n",
       "      <td>1</td>\n",
       "    </tr>\n",
       "    <tr>\n",
       "      <th>3</th>\n",
       "      <td>2018</td>\n",
       "      <td>2018-03-25</td>\n",
       "      <td>\\N</td>\n",
       "      <td>\\N</td>\n",
       "      <td>\\N</td>\n",
       "      <td>\\N</td>\n",
       "      <td>\\N</td>\n",
       "      <td>\\N</td>\n",
       "      <td>\\N</td>\n",
       "      <td>\\N</td>\n",
       "      <td>...</td>\n",
       "      <td>Alpine F1</td>\n",
       "      <td>Fre</td>\n",
       "      <td>Albert Park Grand Prix Circuit</td>\n",
       "      <td>Aus</td>\n",
       "      <td>Nico Hülkenberg</td>\n",
       "      <td>11176</td>\n",
       "      <td>0</td>\n",
       "      <td>0</td>\n",
       "      <td>0</td>\n",
       "      <td>0</td>\n",
       "    </tr>\n",
       "    <tr>\n",
       "      <th>4</th>\n",
       "      <td>2019</td>\n",
       "      <td>2019-03-17</td>\n",
       "      <td>\\N</td>\n",
       "      <td>\\N</td>\n",
       "      <td>\\N</td>\n",
       "      <td>\\N</td>\n",
       "      <td>\\N</td>\n",
       "      <td>\\N</td>\n",
       "      <td>\\N</td>\n",
       "      <td>\\N</td>\n",
       "      <td>...</td>\n",
       "      <td>Alpine F1</td>\n",
       "      <td>Fre</td>\n",
       "      <td>Albert Park Grand Prix Circuit</td>\n",
       "      <td>Aus</td>\n",
       "      <td>Nico Hülkenberg</td>\n",
       "      <td>11533</td>\n",
       "      <td>0</td>\n",
       "      <td>0</td>\n",
       "      <td>0</td>\n",
       "      <td>1</td>\n",
       "    </tr>\n",
       "  </tbody>\n",
       "</table>\n",
       "<p>5 rows × 27 columns</p>\n",
       "</div>"
      ],
      "text/plain": [
       "   year        date fp1_date fp1_time fp2_date fp2_time fp3_date fp3_time  \\\n",
       "0  2011  2011-03-27       \\N       \\N       \\N       \\N       \\N       \\N   \n",
       "1  2010  2010-03-28       \\N       \\N       \\N       \\N       \\N       \\N   \n",
       "2  2017  2017-03-26       \\N       \\N       \\N       \\N       \\N       \\N   \n",
       "3  2018  2018-03-25       \\N       \\N       \\N       \\N       \\N       \\N   \n",
       "4  2019  2019-03-17       \\N       \\N       \\N       \\N       \\N       \\N   \n",
       "\n",
       "  quali_date quali_time  ... constructor constructor_nationality  \\\n",
       "0         \\N         \\N  ...   Alpine F1                     Fre   \n",
       "1         \\N         \\N  ...   Alpine F1                     Fre   \n",
       "2         \\N         \\N  ...   Alpine F1                     Fre   \n",
       "3         \\N         \\N  ...   Alpine F1                     Fre   \n",
       "4         \\N         \\N  ...   Alpine F1                     Fre   \n",
       "\n",
       "                          GP_name  country           driver age_at_gp_in_days  \\\n",
       "0  Albert Park Grand Prix Circuit      Aus    Nick Heidfeld             12374   \n",
       "1  Albert Park Grand Prix Circuit      Aus    Robert Kubica              9242   \n",
       "2  Albert Park Grand Prix Circuit      Aus  Nico Hülkenberg             10812   \n",
       "3  Albert Park Grand Prix Circuit      Aus  Nico Hülkenberg             11176   \n",
       "4  Albert Park Grand Prix Circuit      Aus  Nico Hülkenberg             11533   \n",
       "\n",
       "  driver_home constructor_home driver_dnf constructor_dnf  \n",
       "0           0                0          0               1  \n",
       "1           0                0          0               0  \n",
       "2           0                0          0               1  \n",
       "3           0                0          0               0  \n",
       "4           0                0          0               1  \n",
       "\n",
       "[5 rows x 27 columns]"
      ]
     },
     "execution_count": 6,
     "metadata": {},
     "output_type": "execute_result"
    }
   ],
   "source": [
    "data.head()"
   ]
  },
  {
   "cell_type": "code",
   "execution_count": 7,
   "metadata": {},
   "outputs": [],
   "source": [
    "dnf_by_driver = data.groupby('driver').sum()['driver_dnf']\n",
    "driver_race_entered = data.groupby('driver').count()['driver_dnf']\n",
    "driver_dnf_ratio = (dnf_by_driver/driver_race_entered)\n",
    "driver_confidence = 1-driver_dnf_ratio\n",
    "driver_confidence_dict = dict(zip(driver_confidence.index,driver_confidence))"
   ]
  },
  {
   "cell_type": "code",
   "execution_count": 8,
   "metadata": {},
   "outputs": [
    {
     "name": "stdout",
     "output_type": "stream",
     "text": [
      "float64\n"
     ]
    }
   ],
   "source": [
    "print(driver_confidence.dtypes)"
   ]
  },
  {
   "cell_type": "code",
   "execution_count": 9,
   "metadata": {},
   "outputs": [
    {
     "data": {
      "text/plain": [
       "driver\n",
       "Adrian Sutil          0.868421\n",
       "Alexander Albon       0.940000\n",
       "Alexander Rossi       1.000000\n",
       "André Lotterer        1.000000\n",
       "Antonio Giovinazzi    0.918033\n",
       "                        ...   \n",
       "Valtteri Bottas       0.958333\n",
       "Vitaly Petrov         0.879310\n",
       "Vitantonio Liuzzi     0.783784\n",
       "Will Stevens          1.000000\n",
       "Yuki Tsunoda          0.942857\n",
       "Name: driver_dnf, Length: 73, dtype: float64"
      ]
     },
     "execution_count": 9,
     "metadata": {},
     "output_type": "execute_result"
    }
   ],
   "source": [
    "driver_confidence"
   ]
  },
  {
   "cell_type": "code",
   "execution_count": 10,
   "metadata": {},
   "outputs": [
    {
     "name": "stdout",
     "output_type": "stream",
     "text": [
      "Adrian Sutil: 0.868421052631579\n",
      "Alexander Albon: 0.94\n",
      "Alexander Rossi: 0.1\n",
      "André Lotterer: 0.1\n",
      "Antonio Giovinazzi: 0.9180327868852459\n",
      "Brendon Hartley: 0.88\n",
      "Bruno Senna: 0.8260869565217391\n",
      "Carlos Sainz: 0.9084967320261438\n",
      "Charles Leclerc: 0.8829787234042553\n",
      "Charles Pic: 0.9487179487179487\n",
      "Christian Klien: 0.1\n",
      "Daniel Ricciardo: 0.954954954954955\n",
      "Daniil Kvyat: 0.9196428571428571\n",
      "Esteban Gutiérrez: 0.847457627118644\n",
      "Esteban Ocon: 0.9504950495049505\n",
      "Felipe Massa: 0.9161290322580645\n",
      "Felipe Nasr: 0.925\n",
      "Fernando Alonso: 0.9326923076923077\n",
      "George Russell: 0.9178082191780822\n",
      "Giedo van der Garde: 0.8421052631578947\n",
      "Guanyu Zhou: 0.9230769230769231\n",
      "Heikki Kovalainen: 0.95\n",
      "Jack Aitken: 0.1\n",
      "Jaime Alguersuari: 0.9210526315789473\n",
      "Jarno Trulli: 0.972972972972973\n",
      "Jean-Éric Vergne: 0.9137931034482758\n",
      "Jenson Button: 0.9407407407407408\n",
      "Jolyon Palmer: 0.8571428571428572\n",
      "Jules Bianchi: 0.9117647058823529\n",
      "Jérôme d'Ambrosio: 0.95\n",
      "Kamui Kobayashi: 0.8356164383561644\n",
      "Karun Chandhok: 0.8181818181818181\n",
      "Kevin Magnussen: 0.9318181818181819\n",
      "Kimi Räikkönen: 0.9487179487179487\n",
      "Lance Stroll: 0.8938053097345133\n",
      "Lando Norris: 0.9452054794520548\n",
      "Lewis Hamilton: 0.9477911646586346\n",
      "Lucas di Grassi: 0.9473684210526316\n",
      "Marcus Ericsson: 0.875\n",
      "Mark Webber: 0.935064935064935\n",
      "Max Chilton: 0.9428571428571428\n",
      "Max Verstappen: 0.9025974025974026\n",
      "Michael Schumacher: 0.8771929824561404\n",
      "Mick Schumacher: 0.9117647058823529\n",
      "Narain Karthikeyan: 0.8214285714285714\n",
      "Nicholas Latifi: 0.8269230769230769\n",
      "Nick Heidfeld: 0.8\n",
      "Nico Hülkenberg: 0.9016393442622951\n",
      "Nico Rosberg: 0.9485294117647058\n",
      "Nikita Mazepin: 0.8636363636363636\n",
      "Pascal Wehrlein: 0.8461538461538461\n",
      "Pastor Maldonado: 0.8229166666666666\n",
      "Paul di Resta: 0.864406779661017\n",
      "Pedro de la Rosa: 0.8571428571428572\n",
      "Pierre Gasly: 0.9285714285714286\n",
      "Pietro Fittipaldi: 0.1\n",
      "Rio Haryanto: 0.8333333333333334\n",
      "Robert Kubica: 0.9761904761904762\n",
      "Roberto Merhi: 0.9090909090909091\n",
      "Romain Grosjean: 0.8505747126436781\n",
      "Rubens Barrichello: 0.972972972972973\n",
      "Sakon Yamamoto: 0.1\n",
      "Sebastian Vettel: 0.9433198380566802\n",
      "Sergey Sirotkin: 0.9523809523809523\n",
      "Sergio Pérez: 0.933920704845815\n",
      "Stoffel Vandoorne: 0.9047619047619048\n",
      "Sébastien Buemi: 0.868421052631579\n",
      "Timo Glock: 0.9122807017543859\n",
      "Valtteri Bottas: 0.9583333333333334\n",
      "Vitaly Petrov: 0.8793103448275862\n",
      "Vitantonio Liuzzi: 0.7837837837837838\n",
      "Will Stevens: 0.1\n",
      "Yuki Tsunoda: 0.9428571428571428\n"
     ]
    }
   ],
   "source": [
    "driver_confidence_dict_str = {}\n",
    "for key , value in driver_confidence_dict.items():\n",
    "    # Correct for New Drivers\n",
    "    if value == 1.0:\n",
    "        value = 0.10\n",
    "    driver_confidence_dict_str[key] = np. array([value])\n",
    "    print (\"%s: %s\" % (key, value))\n",
    "    \n",
    "save_obj(driver_confidence_dict_str, 'driver_dict' )"
   ]
  },
  {
   "cell_type": "code",
   "execution_count": 11,
   "metadata": {},
   "outputs": [],
   "source": [
    "dnf_by_constructor = data.groupby('constructor').sum()['constructor_dnf']\n",
    "constructor_race_entered = data.groupby('constructor').count()['constructor_dnf']\n",
    "constructor_dnf_ratio = (dnf_by_constructor/constructor_race_entered)\n",
    "constructor_reliability = 1-constructor_dnf_ratio\n",
    "constructor_reliability_dict = dict(zip(constructor_reliability.index,constructor_reliability))"
   ]
  },
  {
   "cell_type": "code",
   "execution_count": 12,
   "metadata": {},
   "outputs": [
    {
     "data": {
      "text/plain": [
       "pandas.core.series.Series"
      ]
     },
     "execution_count": 12,
     "metadata": {},
     "output_type": "execute_result"
    }
   ],
   "source": [
    "type(constructor_reliability)"
   ]
  },
  {
   "cell_type": "code",
   "execution_count": 13,
   "metadata": {},
   "outputs": [
    {
     "data": {
      "text/plain": [
       "constructor\n",
       "Alfa Romeo        0.417339\n",
       "AlphaTauri        0.474849\n",
       "Alpine F1         0.542339\n",
       "Aston Martin      0.611222\n",
       "Caterham          0.178571\n",
       "Ferrari           0.876000\n",
       "HRT               0.156522\n",
       "Haas F1 Team      0.353160\n",
       "Lotus             0.078947\n",
       "Manor Marussia    0.121212\n",
       "Marussia          0.166667\n",
       "McLaren           0.617706\n",
       "Mercedes          0.891784\n",
       "Red Bull          0.837349\n",
       "Virgin            0.092105\n",
       "Williams          0.482966\n",
       "Name: constructor_dnf, dtype: float64"
      ]
     },
     "execution_count": 13,
     "metadata": {},
     "output_type": "execute_result"
    }
   ],
   "source": [
    "constructor_reliability"
   ]
  },
  {
   "cell_type": "code",
   "execution_count": 14,
   "metadata": {},
   "outputs": [],
   "source": [
    "constructor_reliability_dict_str = {}\n",
    "for key , value in constructor_reliability_dict.items():\n",
    "    # Correct value \n",
    "    constructor_reliability_dict_str[key] = np. array([value])\n",
    "    #print (\"%s: %s\" % (key, value))\n",
    "    \n",
    "save_obj(constructor_reliability_dict_str, 'constructor_dict' )"
   ]
  },
  {
   "cell_type": "markdown",
   "metadata": {},
   "source": [
    "## Analysis F1 Teams and Drivers Probability after last race"
   ]
  },
  {
   "cell_type": "code",
   "execution_count": 15,
   "metadata": {},
   "outputs": [],
   "source": [
    "data2021 = pd.read_csv('./data_f1/data_filtered_2021.csv')"
   ]
  },
  {
   "cell_type": "code",
   "execution_count": 16,
   "metadata": {},
   "outputs": [
    {
     "name": "stdout",
     "output_type": "stream",
     "text": [
      "['Bahrain International Circuit', 'Autodromo Enzo e Dino Ferrari', 'Autódromo Internacional do Algarve', 'Circuit de Barcelona-Catalunya', 'Circuit de Monaco', 'Baku City Circuit', 'Circuit Paul Ricard', 'Red Bull Ring', 'Silverstone Circuit', 'Hungaroring', 'Circuit de Spa-Francorchamps', 'Circuit Park Zandvoort', 'Autodromo Nazionale di Monza', 'Sochi Autodrom', 'Istanbul Park', 'Circuit of the Americas', 'Autódromo Hermanos Rodríguez', 'Autódromo José Carlos Pace', 'Losail International Circuit', 'Jeddah Corniche Circuit', 'Yas Marina Circuit']\n"
     ]
    }
   ],
   "source": [
    "data2021=data2021.sort_values(by='date')\n",
    "races = data2021['GP_name'].unique().tolist()\n",
    "print(races)"
   ]
  },
  {
   "cell_type": "code",
   "execution_count": 17,
   "metadata": {},
   "outputs": [
    {
     "name": "stdout",
     "output_type": "stream",
     "text": [
      "['George Russell', 'Pierre Gasly', 'Nikita Mazepin', 'Mick Schumacher', 'Antonio Giovinazzi', 'Kimi Räikkönen', 'Lance Stroll', 'Sebastian Vettel', 'Max Verstappen', 'Sergio Pérez', 'Yuki Tsunoda', 'Lewis Hamilton', 'Esteban Ocon', 'Fernando Alonso', 'Charles Leclerc', 'Carlos Sainz', 'Lando Norris', 'Daniel Ricciardo', 'Nicholas Latifi', 'Valtteri Bottas', 'Robert Kubica']\n"
     ]
    }
   ],
   "source": [
    "drivers = data2021['driver'].unique().tolist()\n",
    "print(drivers)"
   ]
  },
  {
   "cell_type": "code",
   "execution_count": 18,
   "metadata": {},
   "outputs": [
    {
     "name": "stdout",
     "output_type": "stream",
     "text": [
      "['Williams', 'AlphaTauri', 'Haas F1 Team', 'Alfa Romeo', 'Aston Martin', 'Red Bull', 'Mercedes', 'Alpine F1', 'Ferrari', 'McLaren']\n"
     ]
    }
   ],
   "source": [
    "constructors = data2021['constructor'].unique().tolist()\n",
    "print(constructors)"
   ]
  },
  {
   "cell_type": "code",
   "execution_count": 19,
   "metadata": {},
   "outputs": [],
   "source": [
    "results = {'race': [],\n",
    "          'driver':[],\n",
    "          'constructor':[],\n",
    "          'points':[]}\n",
    "for race in races:\n",
    "    for driver in drivers:\n",
    "        clst = data2021.loc[(data2021['GP_name']==race)&(data2021['driver']==driver)]['constructor'].unique().tolist()\n",
    "        plst = data2021.loc[(data2021['GP_name']==race)&(data2021['driver']==driver)]['points'].unique().tolist()\n",
    "        for c in clst:\n",
    "            for p in plst:\n",
    "                results['race'].append(race)\n",
    "                results['driver'].append(driver)\n",
    "                results['constructor'].append(c)\n",
    "                results['points'].append(p)\n"
   ]
  },
  {
   "cell_type": "code",
   "execution_count": 20,
   "metadata": {},
   "outputs": [
    {
     "name": "stdout",
     "output_type": "stream",
     "text": [
      "                              race              driver   constructor  points\n",
      "0    Bahrain International Circuit      George Russell      Williams     0.0\n",
      "1    Bahrain International Circuit        Pierre Gasly    AlphaTauri     0.0\n",
      "2    Bahrain International Circuit      Nikita Mazepin  Haas F1 Team     0.0\n",
      "3    Bahrain International Circuit     Mick Schumacher  Haas F1 Team     0.0\n",
      "4    Bahrain International Circuit  Antonio Giovinazzi    Alfa Romeo     0.0\n",
      "..                             ...                 ...           ...     ...\n",
      "426             Yas Marina Circuit        Carlos Sainz       Ferrari    15.0\n",
      "427             Yas Marina Circuit        Lando Norris       McLaren     6.0\n",
      "428             Yas Marina Circuit    Daniel Ricciardo       McLaren     0.0\n",
      "429             Yas Marina Circuit     Nicholas Latifi      Williams     0.0\n",
      "430             Yas Marina Circuit     Valtteri Bottas      Mercedes     8.0\n",
      "\n",
      "[431 rows x 4 columns]\n"
     ]
    }
   ],
   "source": [
    "df2021= pd.DataFrame(results)\n",
    "print (df2021)"
   ]
  },
  {
   "cell_type": "code",
   "execution_count": 21,
   "metadata": {},
   "outputs": [
    {
     "name": "stdout",
     "output_type": "stream",
     "text": [
      "Number of Races done: 21\n"
     ]
    }
   ],
   "source": [
    "print(f'Number of Races done: {len(races)}')"
   ]
  },
  {
   "cell_type": "code",
   "execution_count": 22,
   "metadata": {},
   "outputs": [],
   "source": [
    "pts_by_driver = df2021.groupby('driver').sum()['points']\n",
    "driver_race = df2021.groupby('driver').count()['race']\n",
    "driver_points_ratio = (pts_by_driver/len(races)/25.0)\n",
    "driver_points_dict = dict(zip(driver_points_ratio.index,driver_points_ratio))"
   ]
  },
  {
   "cell_type": "code",
   "execution_count": 23,
   "metadata": {},
   "outputs": [
    {
     "data": {
      "text/plain": [
       "{'Antonio Giovinazzi': 0.005714285714285714,\n",
       " 'Carlos Sainz': 0.31142857142857144,\n",
       " 'Charles Leclerc': 0.3028571428571428,\n",
       " 'Daniel Ricciardo': 0.21714285714285717,\n",
       " 'Esteban Ocon': 0.14095238095238094,\n",
       " 'Fernando Alonso': 0.15428571428571428,\n",
       " 'George Russell': 0.030476190476190476,\n",
       " 'Kimi Räikkönen': 0.019047619047619046,\n",
       " 'Lance Stroll': 0.06476190476190476,\n",
       " 'Lando Norris': 0.30476190476190473,\n",
       " 'Lewis Hamilton': 0.7342857142857143,\n",
       " 'Max Verstappen': 0.74,\n",
       " 'Mick Schumacher': 0.0,\n",
       " 'Nicholas Latifi': 0.013333333333333332,\n",
       " 'Nikita Mazepin': 0.0,\n",
       " 'Pierre Gasly': 0.20952380952380953,\n",
       " 'Robert Kubica': 0.0,\n",
       " 'Sebastian Vettel': 0.0819047619047619,\n",
       " 'Sergio Pérez': 0.3619047619047619,\n",
       " 'Valtteri Bottas': 0.41714285714285715,\n",
       " 'Yuki Tsunoda': 0.06095238095238095}"
      ]
     },
     "execution_count": 23,
     "metadata": {},
     "output_type": "execute_result"
    }
   ],
   "source": [
    "driver_points_dict"
   ]
  },
  {
   "cell_type": "code",
   "execution_count": 24,
   "metadata": {},
   "outputs": [],
   "source": [
    "pts_by_constructor = df2021.groupby('constructor').sum()['points']\n",
    "constructor_race = df2021.groupby('constructor').count()['race']\n",
    "constructor_pts_ratio = (pts_by_constructor/len(races)/(25.0+18.0))\n",
    "constructor_points_dict = dict(zip(constructor_pts_ratio.index,constructor_pts_ratio))\n",
    "#constructor_points_dict = dict(zip(pts_by_constructor.index,pts_by_constructor))"
   ]
  },
  {
   "cell_type": "code",
   "execution_count": 25,
   "metadata": {},
   "outputs": [
    {
     "data": {
      "text/plain": [
       "{'Alfa Romeo': 0.014396456256921373,\n",
       " 'AlphaTauri': 0.15725359911406422,\n",
       " 'Alpine F1': 0.17165005537098563,\n",
       " 'Aston Martin': 0.08527131782945736,\n",
       " 'Ferrari': 0.35714285714285715,\n",
       " 'Haas F1 Team': 0.0,\n",
       " 'McLaren': 0.3034330011074197,\n",
       " 'Mercedes': 0.6694352159468439,\n",
       " 'Red Bull': 0.6406423034330011,\n",
       " 'Williams': 0.025470653377630124}"
      ]
     },
     "execution_count": 25,
     "metadata": {},
     "output_type": "execute_result"
    }
   ],
   "source": [
    "constructor_points_dict"
   ]
  },
  {
   "cell_type": "code",
   "execution_count": 26,
   "metadata": {},
   "outputs": [],
   "source": [
    "driver_pred_dict_str = {}\n",
    "for key , value in driver_points_dict.items():\n",
    "    driver_pred_dict_str[key] = np. array([value])\n",
    "    #print (\"%s: %s\" % (key, value))"
   ]
  },
  {
   "cell_type": "code",
   "execution_count": 27,
   "metadata": {},
   "outputs": [],
   "source": [
    "save_obj(driver_pred_dict_str, 'driver_pred_dict' )"
   ]
  },
  {
   "cell_type": "code",
   "execution_count": 28,
   "metadata": {},
   "outputs": [],
   "source": [
    "constructor_pred_dict_str = {}\n",
    "for key , value in constructor_points_dict.items():\n",
    "    constructor_pred_dict_str[key] = np. array([value])\n",
    "    #print (\"%s: %s\" % (key, value))"
   ]
  },
  {
   "cell_type": "code",
   "execution_count": 29,
   "metadata": {},
   "outputs": [],
   "source": [
    "save_obj(constructor_pred_dict_str, 'constructor_pred_dict' )"
   ]
  },
  {
   "cell_type": "markdown",
   "metadata": {},
   "source": [
    "## Generate Qualifying dataset for Predictor"
   ]
  },
  {
   "cell_type": "code",
   "execution_count": 30,
   "metadata": {},
   "outputs": [],
   "source": [
    "qualif = {'race': [],\n",
    "          'driver':[],\n",
    "          'quali_pos':[]\n",
    "         }\n",
    "for race in races:\n",
    "    for driver in drivers:\n",
    "        qlst = data2021.loc[(data2021['GP_name']==race)&(data2021['driver']==driver)]['quali_pos'].unique().tolist()\n",
    "        for q in qlst:\n",
    "            qualif['race'].append(race)\n",
    "            qualif['driver'].append(driver)\n",
    "            qualif['quali_pos'].append(q)\n"
   ]
  },
  {
   "cell_type": "code",
   "execution_count": 31,
   "metadata": {},
   "outputs": [
    {
     "name": "stdout",
     "output_type": "stream",
     "text": [
      "                              race              driver  quali_pos\n",
      "0    Bahrain International Circuit      George Russell         15\n",
      "1    Bahrain International Circuit        Pierre Gasly          5\n",
      "2    Bahrain International Circuit      Nikita Mazepin         19\n",
      "3    Bahrain International Circuit     Mick Schumacher         18\n",
      "4    Bahrain International Circuit  Antonio Giovinazzi         12\n",
      "..                             ...                 ...        ...\n",
      "425             Yas Marina Circuit        Carlos Sainz          5\n",
      "426             Yas Marina Circuit        Lando Norris          3\n",
      "427             Yas Marina Circuit    Daniel Ricciardo         10\n",
      "428             Yas Marina Circuit     Nicholas Latifi         16\n",
      "429             Yas Marina Circuit     Valtteri Bottas          6\n",
      "\n",
      "[430 rows x 3 columns]\n"
     ]
    }
   ],
   "source": [
    "qualif2021= pd.DataFrame(qualif)\n",
    "print (qualif2021)"
   ]
  },
  {
   "cell_type": "code",
   "execution_count": 32,
   "metadata": {},
   "outputs": [],
   "source": [
    "qualif2021.to_csv('./data_f1/qualif_filtered.csv', index = False)"
   ]
  },
  {
   "cell_type": "code",
   "execution_count": 33,
   "metadata": {},
   "outputs": [
    {
     "name": "stdout",
     "output_type": "stream",
     "text": [
      "Yas Marina Circuit\n"
     ]
    }
   ],
   "source": [
    "# last race\n",
    "last_race = races[len(races)-1]\n",
    "print(last_race)"
   ]
  },
  {
   "cell_type": "code",
   "execution_count": 34,
   "metadata": {},
   "outputs": [
    {
     "name": "stdout",
     "output_type": "stream",
     "text": [
      "                   race              driver  quali_pos\n",
      "410  Yas Marina Circuit      George Russell         17\n",
      "411  Yas Marina Circuit        Pierre Gasly         12\n",
      "412  Yas Marina Circuit      Nikita Mazepin         20\n",
      "413  Yas Marina Circuit     Mick Schumacher         19\n",
      "414  Yas Marina Circuit  Antonio Giovinazzi         14\n",
      "415  Yas Marina Circuit      Kimi Räikkönen         18\n",
      "416  Yas Marina Circuit        Lance Stroll         13\n",
      "417  Yas Marina Circuit    Sebastian Vettel         15\n",
      "418  Yas Marina Circuit      Max Verstappen          1\n",
      "419  Yas Marina Circuit        Sergio Pérez          4\n",
      "420  Yas Marina Circuit        Yuki Tsunoda          8\n",
      "421  Yas Marina Circuit      Lewis Hamilton          2\n",
      "422  Yas Marina Circuit        Esteban Ocon          9\n",
      "423  Yas Marina Circuit     Fernando Alonso         11\n",
      "424  Yas Marina Circuit     Charles Leclerc          7\n",
      "425  Yas Marina Circuit        Carlos Sainz          5\n",
      "426  Yas Marina Circuit        Lando Norris          3\n",
      "427  Yas Marina Circuit    Daniel Ricciardo         10\n",
      "428  Yas Marina Circuit     Nicholas Latifi         16\n",
      "429  Yas Marina Circuit     Valtteri Bottas          6\n"
     ]
    }
   ],
   "source": [
    "qualif_last= qualif2021[qualif2021['race']==last_race]\n",
    "print (qualif_last)"
   ]
  },
  {
   "cell_type": "code",
   "execution_count": 35,
   "metadata": {},
   "outputs": [],
   "source": [
    "qualif_last.to_csv('./data_f1/qualif_lastrace.csv', index = False)"
   ]
  },
  {
   "cell_type": "markdown",
   "metadata": {},
   "source": [
    "## Generate Machine Learning Model: Random Forest "
   ]
  },
  {
   "cell_type": "code",
   "execution_count": 36,
   "metadata": {},
   "outputs": [],
   "source": [
    "import pandas as pd\n",
    "import numpy as np\n",
    "import matplotlib.pyplot as plt\n",
    "import seaborn as sns\n",
    "import pickle\n",
    "\n",
    "def save_model(model, model_filepath):\n",
    "    \"\"\"\n",
    "    Export your model as a pickle file.\n",
    "    Saves trained model as pickle file to be loaded later.\n",
    "    \n",
    "    \"\"\"\n",
    "    \n",
    "    filename = model_filepath\n",
    "    pickle.dump(model, open(filename, 'wb'))"
   ]
  },
  {
   "cell_type": "code",
   "execution_count": 37,
   "metadata": {},
   "outputs": [],
   "source": [
    "from sklearn.metrics import confusion_matrix, precision_score\n",
    "from sklearn.metrics import accuracy_score\n",
    "from sklearn.preprocessing import StandardScaler,LabelEncoder,OneHotEncoder\n",
    "from sklearn.model_selection import cross_val_score,StratifiedKFold,RandomizedSearchCV\n",
    "from sklearn.linear_model import LogisticRegression\n",
    "from sklearn.ensemble import RandomForestClassifier, RandomForestRegressor\n",
    "from sklearn.svm import SVC\n",
    "from sklearn.tree import DecisionTreeClassifier\n",
    "from sklearn.neighbors import KNeighborsClassifier\n",
    "from sklearn.naive_bayes import GaussianNB\n",
    "from sklearn.metrics import confusion_matrix,precision_score,f1_score,recall_score\n",
    "from sklearn.neural_network import MLPClassifier, MLPRegressor\n",
    "plt.style.use('seaborn')\n"
   ]
  },
  {
   "cell_type": "code",
   "execution_count": 38,
   "metadata": {},
   "outputs": [],
   "source": [
    "def position_index(x):\n",
    "    if x<4:\n",
    "        return 1\n",
    "    if x>10:\n",
    "        return 3\n",
    "    else :\n",
    "        return 2"
   ]
  },
  {
   "cell_type": "code",
   "execution_count": 39,
   "metadata": {},
   "outputs": [],
   "source": [
    "n_estimators = [int(x) for x in np.linspace(start=200,stop=2000,num=10)]\n",
    "max_features = ['auto','sqrt']\n",
    "max_depth = [int(x) for x in np.linspace(10,110,num=11)]\n",
    "min_samples_split = [2,5,8,10,15,20]\n",
    "min_samples_leaf = [1,2,4,6,8,10]\n",
    "bootstrap = [True,False]\n",
    "\n",
    "random_parms = {\n",
    "    'n_estimators':n_estimators,\n",
    "    'max_features':max_features,\n",
    "    'max_depth':max_depth,\n",
    "    'min_samples_split':min_samples_split,\n",
    "    'min_samples_leaf':min_samples_leaf,\n",
    "    'bootstrap':bootstrap\n",
    "                }"
   ]
  },
  {
   "cell_type": "code",
   "execution_count": 40,
   "metadata": {},
   "outputs": [],
   "source": [
    "# Dataset generated in previous phase\n",
    "data = pd.read_csv('./data_f1/cleaned_data.csv')"
   ]
  },
  {
   "cell_type": "code",
   "execution_count": 41,
   "metadata": {},
   "outputs": [],
   "source": [
    "x = data[['GP_name','quali_pos','constructor','driver','position','driver_confidence','constructor_reliability','active_driver','active_constructor']]"
   ]
  },
  {
   "cell_type": "code",
   "execution_count": 42,
   "metadata": {},
   "outputs": [],
   "source": [
    "x = x[x['active_constructor']==1]\n",
    "x = x[x['active_driver']==1]"
   ]
  },
  {
   "cell_type": "code",
   "execution_count": 43,
   "metadata": {},
   "outputs": [],
   "source": [
    "sc  = StandardScaler()\n",
    "le = LabelEncoder()\n",
    "x['GP_name'] = le.fit_transform(x['GP_name'])\n",
    "x['constructor'] = le.fit_transform(x['constructor'])\n",
    "x['driver'] = le.fit_transform(x['driver'])\n",
    "x['GP_name'] = le.fit_transform(x['GP_name'])\n",
    "X = x.drop(['position','active_driver','active_constructor'],1)\n",
    "y = x['position'].apply(lambda x: position_index(x))"
   ]
  },
  {
   "cell_type": "code",
   "execution_count": null,
   "metadata": {},
   "outputs": [
    {
     "name": "stdout",
     "output_type": "stream",
     "text": [
      "Fitting 10 folds for each of 100 candidates, totalling 1000 fits\n"
     ]
    }
   ],
   "source": [
    "rf_rand = RandomForestClassifier()\n",
    "rf_random = RandomizedSearchCV(estimator=rf_rand,param_distributions=random_parms,n_iter=100,cv=10,verbose=2,n_jobs=-1)\n",
    "rf_random.fit(X,y)\n",
    "rf_random.best_params_"
   ]
  },
  {
   "cell_type": "code",
   "execution_count": null,
   "metadata": {},
   "outputs": [],
   "source": [
    "rf = RandomForestClassifier(n_estimators=100,min_samples_split=20,min_samples_leaf=1,max_features='sqrt',max_depth=90,bootstrap=True)\n",
    "kf = StratifiedKFold(n_splits=10,random_state=None,shuffle=False)\n",
    "for train_index,test_index in kf.split(X,y):\n",
    "    X_train,X_test = X.iloc[train_index],X.iloc[test_index]\n",
    "    y_train,y_test = y.iloc[train_index],y.iloc[test_index]"
   ]
  },
  {
   "cell_type": "code",
   "execution_count": null,
   "metadata": {},
   "outputs": [],
   "source": [
    "rf.fit(X_train,y_train)\n",
    "y_pred_rf = rf.predict(X_test)\n",
    "cnf_mat_rf = confusion_matrix(y_test,y_pred_rf)\n",
    "cnf_mat_rf = cnf_mat_rf/cnf_mat_rf.sum()"
   ]
  },
  {
   "cell_type": "code",
   "execution_count": null,
   "metadata": {},
   "outputs": [],
   "source": [
    "model_filepath='./models/{}.pkl'.format('RandomForestClassifier')\n",
    "print('Saving model ...\\n    MODEL: {}'.format(model_filepath))\n",
    "save_model(rf, model_filepath)"
   ]
  },
  {
   "cell_type": "code",
   "execution_count": null,
   "metadata": {},
   "outputs": [],
   "source": [
    "print(X.columns)"
   ]
  },
  {
   "cell_type": "code",
   "execution_count": null,
   "metadata": {},
   "outputs": [],
   "source": [
    "importances = rf.feature_importances_\n",
    "importances"
   ]
  },
  {
   "cell_type": "markdown",
   "metadata": {},
   "source": [
    "# Analysis of Machine Learning Model Serving"
   ]
  },
  {
   "cell_type": "code",
   "execution_count": null,
   "metadata": {},
   "outputs": [],
   "source": [
    "import pickle\n",
    "\n",
    "model_filepath='./models/{}.pkl'.format('RandomForestClassifier')\n",
    "\n",
    "# load model using pickle l from disk\n",
    "print('Loading model ...\\n    MODEL: {}'.format(model_filepath))\n",
    "loaded_model = pickle.load(open(model_filepath, 'rb'))\n",
    "# model = joblib.load(model_filepath)\n"
   ]
  },
  {
   "cell_type": "code",
   "execution_count": null,
   "metadata": {},
   "outputs": [],
   "source": [
    "importances = loaded_model.feature_importances_\n",
    "importances"
   ]
  },
  {
   "cell_type": "code",
   "execution_count": null,
   "metadata": {},
   "outputs": [],
   "source": [
    "feature_names=['GP_name', 'quali_pos', 'constructor', 'driver', 'driver_confidence',\n",
    "       'constructor_reliability']"
   ]
  },
  {
   "cell_type": "code",
   "execution_count": null,
   "metadata": {},
   "outputs": [],
   "source": [
    "import time\n",
    "import numpy as np\n",
    "\n",
    "start_time = time.time()\n",
    "std = np.std([\n",
    "    tree.feature_importances_ for tree in loaded_model.estimators_], axis=0)\n",
    "elapsed_time = time.time() - start_time\n",
    "\n",
    "print(f\"Elapsed time to compute the importances: \"\n",
    "      f\"{elapsed_time:.3f} seconds\")"
   ]
  },
  {
   "cell_type": "code",
   "execution_count": null,
   "metadata": {},
   "outputs": [],
   "source": [
    "import pandas as pd\n",
    "import matplotlib.pyplot as plt\n",
    "forest_importances = pd.Series(importances, index=feature_names)\n",
    "\n",
    "fig, ax = plt.subplots()\n",
    "forest_importances.plot.bar(yerr=std, ax=ax)\n",
    "ax.set_title(\"Feature importances using MDI\")\n",
    "ax.set_ylabel(\"Mean decrease in impurity\")\n",
    "fig.tight_layout()"
   ]
  },
  {
   "cell_type": "code",
   "execution_count": null,
   "metadata": {},
   "outputs": [],
   "source": [
    "len(loaded_model.estimators_)"
   ]
  },
  {
   "cell_type": "markdown",
   "metadata": {},
   "source": [
    "### The plot of first Decision Tree:"
   ]
  },
  {
   "cell_type": "code",
   "execution_count": null,
   "metadata": {},
   "outputs": [],
   "source": [
    "from sklearn import tree\n",
    "plt.figure(figsize=(20,20))\n",
    "_ = tree.plot_tree(loaded_model.estimators_[0], feature_names=feature_names, filled=True)"
   ]
  },
  {
   "cell_type": "markdown",
   "metadata": {},
   "source": [
    "Let’s check the depth of the first tree from the Random Forest:"
   ]
  },
  {
   "cell_type": "code",
   "execution_count": null,
   "metadata": {},
   "outputs": [],
   "source": [
    "loaded_model.estimators_[0].tree_.max_depth"
   ]
  },
  {
   "cell_type": "markdown",
   "metadata": {},
   "source": [
    "Our first tree has max_depth=14. Other trees have similar depth. You can check for the different trees."
   ]
  },
  {
   "cell_type": "markdown",
   "metadata": {},
   "source": [
    "### The plot of Second Decision Tree:"
   ]
  },
  {
   "cell_type": "code",
   "execution_count": null,
   "metadata": {},
   "outputs": [],
   "source": [
    "plt.figure(figsize=(20,20))\n",
    "_ = tree.plot_tree(loaded_model.estimators_[1], feature_names=feature_names, filled=True)"
   ]
  },
  {
   "cell_type": "code",
   "execution_count": null,
   "metadata": {},
   "outputs": [],
   "source": [
    "fig, axes = plt.subplots(nrows = 1,ncols = 5,figsize = (10,2), dpi=900)\n",
    "for index in range(0, 5):\n",
    "    tree.plot_tree(loaded_model.estimators_[index],\n",
    "                   feature_names = feature_names, \n",
    "                   # class_names=cn,\n",
    "                   filled = True,\n",
    "                   ax = axes[index]);\n",
    "\n",
    "    axes[index].set_title('Estimator: ' + str(index), fontsize = 11)    "
   ]
  },
  {
   "cell_type": "code",
   "execution_count": null,
   "metadata": {},
   "outputs": [],
   "source": [
    "end = time.time()"
   ]
  },
  {
   "cell_type": "code",
   "execution_count": null,
   "metadata": {},
   "outputs": [],
   "source": [
    "import datetime\n",
    "str(datetime.timedelta(seconds=(end - start)))"
   ]
  },
  {
   "cell_type": "code",
   "execution_count": null,
   "metadata": {},
   "outputs": [],
   "source": [
    "print(str(end - start)+\" seconds\")"
   ]
  },
  {
   "cell_type": "markdown",
   "metadata": {},
   "source": [
    "## Let's See The Results\n",
    "\n",
    "To see the results of the lab, you'll need to start the web server using Terminal.\n",
    "\n",
    "1. In the menu at the top of the page, select **File->New->Terminal**.\n",
    "2. Enter the following commands, hitting return after each one (feel free to copy and paste)\n",
    "\n",
    "        cd /home/opc/redbull-analytics-hol/beginners/web\n",
    "        source /home/opc/redbullenv/bin/activate\n",
    "        python3 app.py\n",
    "3. Open a web browser to the public IP of your Jupyter Lab, but use port 8443 instead of port 8001:\n",
    "\n",
    "        https://xxx.xxx.xxx.xxx:8443"
   ]
  },
  {
   "cell_type": "code",
   "execution_count": null,
   "metadata": {},
   "outputs": [],
   "source": []
  }
 ],
 "metadata": {
  "kernelspec": {
   "display_name": "Python 3",
   "language": "python",
   "name": "python3"
  },
  "language_info": {
   "codemirror_mode": {
    "name": "ipython",
    "version": 3
   },
   "file_extension": ".py",
   "mimetype": "text/x-python",
   "name": "python",
   "nbconvert_exporter": "python",
   "pygments_lexer": "ipython3",
   "version": "3.6.8"
  }
 },
 "nbformat": 4,
 "nbformat_minor": 4
}
